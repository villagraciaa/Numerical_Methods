{
  "nbformat": 4,
  "nbformat_minor": 0,
  "metadata": {
    "colab": {
      "provenance": []
    },
    "kernelspec": {
      "name": "python3",
      "display_name": "Python 3"
    },
    "language_info": {
      "name": "python"
    }
  },
  "cells": [
    {
      "cell_type": "markdown",
      "source": [
        "**Linear Regression Model**\n",
        "Dr. Al Rey Villagracia"
      ],
      "metadata": {
        "id": "-o7BfBfaynAB"
      }
    },
    {
      "cell_type": "code",
      "execution_count": null,
      "metadata": {
        "id": "3WhU2WTBr-4v"
      },
      "outputs": [],
      "source": [
        "x=[0.698132, 0.959931, 1.134464, 1.570796, 1.919862]\n",
        "y=[0.188224, 0.209138, 0.230052, 0.250965, 0.313707]\n",
        "n = len(x)"
      ]
    },
    {
      "cell_type": "code",
      "source": [
        "def lin_reg(x,y):\n",
        "\n",
        "  x_mean = sum(x)/n    # theta_bar\n",
        "  y_mean = sum(y)/n    # T_bar\n",
        "\n",
        "  xy = sum([x[i]*y[i] for i in range(0,n)])\n",
        "  S_xy = xy - n*x_mean*y_mean\n",
        "  S_xx = sum([x[i]**2 for i in range(0,n)])-n*x_mean**2\n",
        "  a1 = S_xy/S_xx\n",
        "  a0 = y_mean - a1*x_mean\n",
        "\n",
        "  return [a1,a0]"
      ],
      "metadata": {
        "id": "MUCnBRf_sm6t"
      },
      "execution_count": null,
      "outputs": []
    },
    {
      "cell_type": "code",
      "source": [
        "[k1,k2] = lin_reg(x,y)"
      ],
      "metadata": {
        "id": "rYuB_MGFvqEc"
      },
      "execution_count": null,
      "outputs": []
    },
    {
      "cell_type": "code",
      "source": [
        "import matplotlib.pyplot as plt\n",
        "\n",
        "plt.plot(x,y,'o')\n",
        "y_calc = [k1+k2*x[i] for i in range(0,n)]\n",
        "\n",
        "plt.plot(x,y_calc)\n",
        "plt.xlabel('Theta (radians)')\n",
        "plt.ylabel('Torque (Nm)')"
      ],
      "metadata": {
        "colab": {
          "base_uri": "https://localhost:8080/",
          "height": 467
        },
        "id": "p_FSd2m1uyLH",
        "outputId": "ff8e0e53-e396-42e4-a9f8-46650fc6993e"
      },
      "execution_count": null,
      "outputs": [
        {
          "output_type": "execute_result",
          "data": {
            "text/plain": [
              "Text(0, 0.5, 'Torque (Nm)')"
            ]
          },
          "metadata": {},
          "execution_count": 83
        },
        {
          "output_type": "display_data",
          "data": {
            "text/plain": [
              "<Figure size 640x480 with 1 Axes>"
            ],
            "image/png": "[encoded data removed]"
          },
          "metadata": {}
        }
      ]
    },
    {
      "cell_type": "markdown",
      "source": [
        "**Exponential Regression Model**"
      ],
      "metadata": {
        "id": "aHlSDuG6yrmB"
      }
    },
    {
      "cell_type": "code",
      "source": [
        "t_val=[0,1,3,5,7,9]\n",
        "gamma_val = [1,0.891,0.708,0.562,0.447,0.355]"
      ],
      "metadata": {
        "id": "VEdBTAIjyvNy"
      },
      "execution_count": null,
      "outputs": []
    },
    {
      "cell_type": "code",
      "source": [
        "from sympy import Symbol,exp\n",
        "import numpy as np\n",
        "\n",
        "n = len(t_val)\n",
        "\n",
        "\n",
        "l = Symbol('l')\n",
        "\n",
        "\n",
        "sum1 = sum([gamma_val[i]*t_val[i]*exp(l*t_val[i]) for  i in range(0,n) ])\n",
        "sum2 = sum(gamma_val[i]*exp(l*t_val[i]) for i in range(n))\n",
        "sum3 = sum(exp(2*l*t_val[i]) for i in range(n))\n",
        "sum4 = sum(t_val[i] * exp(2*l*t_val[i]) for i in range(n))\n",
        "f = sum1 - sum2/sum3*sum4\n"
      ],
      "metadata": {
        "id": "kcHT_kO2y_Cf"
      },
      "execution_count": null,
      "outputs": []
    },
    {
      "cell_type": "code",
      "source": [
        "def bisection(xu,xl,f):\n",
        "  flag=False\n",
        "\n",
        "  tol=0.00001\n",
        "  xsol=0\n",
        "\n",
        "  for i in range(1000):\n",
        "\n",
        "    xm = (xu+xl)/2\n",
        "    fm = f.subs(l,xm)\n",
        "    fu = f.subs(l,xu)\n",
        "    fl = f.subs(l,xl)\n",
        "\n",
        "#    print(fm)\n",
        "    if abs(fm) < tol:\n",
        "      xsol = xm\n",
        "      break\n",
        "\n",
        "    if fl*fm < 0:\n",
        "      xu=xm\n",
        "    else:\n",
        "      if fm*fu < 0:\n",
        "        xl=xm\n",
        "      else:\n",
        "        break\n",
        "\n",
        "  return xsol\n",
        "\n",
        "l_val = bisection(-0.5,0,f)\n",
        "print(l_val)\n",
        "A = sum([gamma_val[i] * exp(l_val*t_val[i]) for i in range(n)]) / sum(exp(2*l_val*t_val[i]) for i in range(n))\n",
        "print(A)"
      ],
      "metadata": {
        "colab": {
          "base_uri": "https://localhost:8080/"
        },
        "id": "EHktQYQ_364I",
        "outputId": "059b560f-c66e-46bd-ac56-51e41224811b"
      },
      "execution_count": null,
      "outputs": [
        {
          "output_type": "stream",
          "name": "stdout",
          "text": [
            "-0.1150827407836914\n",
            "0.999840748855642\n"
          ]
        }
      ]
    }
  ]
}